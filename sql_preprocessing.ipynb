{
 "cells": [
  {
   "cell_type": "code",
   "execution_count": 3,
   "metadata": {},
   "outputs": [],
   "source": [
    "from time import sleep\n",
    "import pymysql"
   ]
  },
  {
   "cell_type": "markdown",
   "metadata": {},
   "source": [
    "这个程序需要改，因为现在是六个robot信息数据表和故障诊断数据表在一个robot数据库中，我们在实际应用中，它们不是在一个数据库中，所以对db的游标操作需要分成多个阶段"
   ]
  },
  {
   "cell_type": "code",
   "execution_count": 22,
   "metadata": {},
   "outputs": [],
   "source": [
    "# 打开数据库连接\n",
    "db = pymysql.connect(\"localhost\",\"root\",\"0502\",\"robot\" )\n",
    " \n",
    "# 使用 cursor() 方法创建一个游标对象 cursor\n",
    "cursor = db.cursor()\n",
    "#取得故障诊断表中的日期最大值\n",
    "sql_maxdatetime=\"select d_create_time from fault_detection_value where d_create_time in (select MAX(d_create_time) from fault_detection_value)\"\n",
    "\n",
    "#将日期大于日期最大值的所有数据拷贝到故障诊断表中\n",
    "sql_copy=\"INSERT INTO fault_detection_value(c_id,d_create_time,c_component_id,c_observation_value,c_distinguish_type_id,c_state,c_json_value,c_fault_level) SELECT c_id,d_create_time,c_component_id,c_observation_value,c_distinguish_type_id,c_state,c_json_value,c_fault_level FROM rb_component_value WHERE d_create_time > %s\" \n",
    "\n",
    "#sql_inquire=\"SELECT c_component_id FROM fault_detection_value WHERE c_equipment_id is null\"\n",
    "\n",
    "#将rb_component表合并到fault表中\n",
    "sql_fill=\"UPDATE fault_detection_value f,rb_component c SET f.c_equipment_id=c.c_equipment_id,f.c_device_type=c.c_device_type,f.c_device_area=c.c_device_area WHERE f.c_component_id=c.c_id and f.c_equipment_id is null;\"\n",
    "\n",
    "try:\n",
    "    cursor.execute(sql_maxdatetime)\n",
    "    max_datetime = cursor.fetchone()\n",
    "    if max_datetime is None:\n",
    "        max_datetime='0'\n",
    "    cursor.execute(sql_copy,(str(max_datetime[0])))\n",
    "    cursor.execute(sql_fill)\n",
    "    #提交\n",
    "    db.commit()\n",
    "except Exception as e:\n",
    " #错误回滚\n",
    "    db.rollback() \n",
    "finally:\n",
    "    db.close() "
   ]
  },
  {
   "cell_type": "code",
   "execution_count": null,
   "metadata": {},
   "outputs": [],
   "source": []
  }
 ],
 "metadata": {
  "kernelspec": {
   "display_name": "Python webpython",
   "language": "python",
   "name": "webpython"
  },
  "language_info": {
   "codemirror_mode": {
    "name": "ipython",
    "version": 3
   },
   "file_extension": ".py",
   "mimetype": "text/x-python",
   "name": "python",
   "nbconvert_exporter": "python",
   "pygments_lexer": "ipython3",
   "version": "3.6.6"
  }
 },
 "nbformat": 4,
 "nbformat_minor": 2
}
