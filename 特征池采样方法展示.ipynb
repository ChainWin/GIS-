{
 "cells": [
  {
   "cell_type": "code",
   "execution_count": 1,
   "metadata": {
    "collapsed": true
   },
   "outputs": [],
   "source": [
    "import numpy as np\n",
    "from sklearn.decomposition import PCA\n",
    "from sklearn.externals import joblib\n",
    "from scipy.stats.distributions import chi2\n",
    "from sklearn.preprocessing import StandardScaler\n",
    "import pymysql"
   ]
  },
  {
   "cell_type": "code",
   "execution_count": 30,
   "metadata": {
    "collapsed": true
   },
   "outputs": [],
   "source": [
    "tem_component_code=['hw3', 'hw2', 'hw1','[TEMP_DIFF:hw1,hw2,hw3]','[TEMP_DIFF:3-1,3-2,3-4]','[TEMP_DIFF:2-1,2-2,2-3]','3-4','3-2','3-1','2-5','2-4','2-3','2-2','2-1']\n",
    "pres_component_code=['3-7','3-6','3-4','3-2','3-1','2-7','2-6','2-5','2-4','2-3','2-2','2-1']\n",
    "tem_component_results=[]\n",
    "pres_component_results=[]\n",
    "equipment='equipment_switch_36'\n",
    "if equipment=='equipment_switch_36':\n",
    "    vector=26\n",
    "# # 装载已经训练好的模型\n",
    "SPE_limit=6\n",
    "pca=joblib.load('gis_diagnosis_pca.pkl')\n",
    "scaler=joblib.load('gis_diagnosis_scaler.pkl')"
   ]
  },
  {
   "cell_type": "code",
   "execution_count": 64,
   "metadata": {
    "collapsed": true
   },
   "outputs": [],
   "source": [
    "# 打开数据库连接\n",
    "db = pymysql.connect(\"localhost\",\"root\",\"0502\",\"robot\" )\n",
    " \n",
    "# 使用 cursor() 方法创建一个游标对象 cursor\n",
    "cursor = db.cursor()\n",
    "sql_get_tem_value=\"select c_observation_value from fault_detection_value where c_equipment_id= %s and c_component_code = %s and c_distinguish_type_id='infrared' and c_state=1 and fault='normal'\"\n",
    "sql_get_pres_value=\"select c_observation_value from fault_detection_value where c_equipment_id= %s and c_component_code = %s and c_distinguish_type_id='meterReading' and c_state=1\"\n",
    "try:\n",
    "    for component_code in tem_component_code:\n",
    "        cursor.execute(sql_get_tem_value,('equipment_switch_36',component_code))\n",
    "        tem_component_results.append(cursor.fetchall())\n",
    "    for component_code in pres_component_code:\n",
    "        cursor.execute(sql_get_pres_value,('equipment_switch_36',component_code))\n",
    "        pres_component_results.append(cursor.fetchall())\n",
    "except Exception as e:\n",
    " #错误回滚\n",
    "    db.rollback() \n",
    "finally:\n",
    "    db.close() "
   ]
  },
  {
   "cell_type": "code",
   "execution_count": 65,
   "metadata": {
    "collapsed": false
   },
   "outputs": [
    {
     "name": "stdout",
     "output_type": "stream",
     "text": [
      "温度表计0共成功采集14个数据\n",
      "温度表计1共成功采集15个数据\n",
      "温度表计2共成功采集12个数据\n",
      "温度表计3共成功采集7个数据\n",
      "温度表计4共成功采集10个数据\n",
      "温度表计5共成功采集13个数据\n",
      "温度表计6共成功采集23个数据\n",
      "温度表计7共成功采集23个数据\n",
      "温度表计8共成功采集20个数据\n",
      "温度表计9共成功采集15个数据\n",
      "温度表计10共成功采集12个数据\n",
      "温度表计11共成功采集20个数据\n",
      "温度表计12共成功采集24个数据\n",
      "温度表计13共成功采集18个数据\n",
      "\n",
      "\n",
      "压力表计0共成功采集23个数据\n",
      "压力表计1共成功采集21个数据\n",
      "压力表计2共成功采集15个数据\n",
      "压力表计3共成功采集12个数据\n",
      "压力表计4共成功采集15个数据\n",
      "压力表计5共成功采集23个数据\n",
      "压力表计6共成功采集24个数据\n",
      "压力表计7共成功采集11个数据\n",
      "压力表计8共成功采集7个数据\n",
      "压力表计9共成功采集12个数据\n",
      "压力表计10共成功采集12个数据\n",
      "压力表计11共成功采集15个数据\n"
     ]
    }
   ],
   "source": [
    "for i in range(len(tem_component_results)):\n",
    "    print('温度表计%d共成功采集%d个数据' %(i,len(tem_component_results[i])))\n",
    "print(\"\\n\")\n",
    "for i in range(len(pres_component_results)):\n",
    "    print('压力表计%d共成功采集%d个数据' %(i,len(pres_component_results[i])))"
   ]
  },
  {
   "cell_type": "markdown",
   "metadata": {},
   "source": [
    "# 如果机器人全部采集完一轮，才记为一条数据的话,一共才只有7条数据，过于稀疏"
   ]
  },
  {
   "cell_type": "markdown",
   "metadata": {},
   "source": [
    "# 如果每次成功采集一个表计，都算作一条新数据的话"
   ]
  },
  {
   "cell_type": "code",
   "execution_count": 73,
   "metadata": {
    "collapsed": true
   },
   "outputs": [],
   "source": [
    "#数据矩阵\n",
    "x=np.empty((1,vector))\n",
    "\n",
    "#温度初始值\n",
    "tem_def = {'hw3' : 28.5, 'hw2' : 28.5,'hw1' : 27.0,'[TEMP_DIFF:hw1,hw2,hw3]' : 1,'[TEMP_DIFF:3-1,3-2,3-4]' : 1.5,'[TEMP_DIFF:2-1,2-2,2-3]' : 2.0,'3-4' : 30.0,'3-2' : 30.0,'3-1' : 29.3,'2-5' : 33.8,'2-4' : 32.25,'2-3' : 34.12,'2-2' : 35,'2-1' : 35.8}\n",
    "#压力初始值\n",
    "pres_def = {'3-7' : 69, '3-6' : 0.05,'3-4' : 1.13,'3-2' : 0.17,'3-1' : 0.257,'2-7' : 30.0,'2-6' : 0.028,'2-5' : 36.6,'2-4' : 2.0,'2-3' : 3.124,'2-2' : 1.9,'2-1' : 0.0853}    \n",
    "tem_latest=tem_def\n",
    "pres_latest=pres_def\n",
    "\n",
    "one_shoot_dataset=[]"
   ]
  },
  {
   "cell_type": "code",
   "execution_count": 74,
   "metadata": {
    "collapsed": true
   },
   "outputs": [],
   "source": [
    "while(True):\n",
    "\n",
    "    # 打开数据库连接\n",
    "\n",
    "    db = pymysql.connect(\"localhost\",\"root\",\"0502\",\"robot\" )\n",
    "\n",
    "    # 使用 cursor() 方法创建一个游标对象 cursor\n",
    "    cursor = db.cursor()\n",
    "    #查找预测值为空且时间最远的一条数据\n",
    "    sql_get_value=\"select min(d_create_time),c_observation_value,c_component_code,c_distinguish_type_id from fault_detection_value where c_equipment_id='\"+equipment+\"' and equipment_fault_prob is null and c_observation_value != 'ON' and c_observation_value != 'OFF' and c_state=1 and c_component_code not like '%REF%'\"\n",
    "\n",
    "    try:\n",
    "        cursor.execute(sql_get_value)\n",
    "        latest_data=cursor.fetchall()\n",
    "    except Exception as e:\n",
    "    #错误回滚\n",
    "        db.rollback() \n",
    "    finally:\n",
    "        db.close() \n",
    "\n",
    "    if latest_data[0][0]== None: \n",
    "        break\n",
    "\n",
    "    #下面如果取消注释，那么就会变成针对单个compoment的检测，而不是针对设备的检测\n",
    "    # #温度当前值\n",
    "    # tem_latest =tem_def\n",
    "    # #压力当前值\n",
    "    # pres_latest = pres_def\n",
    "\n",
    "\n",
    "    if latest_data[0][3]=='meterReading':\n",
    "        pres_latest[latest_data[0][2]]=latest_data[0][1]\n",
    "    elif latest_data[0][3]=='infrared':\n",
    "        tem_latest[latest_data[0][2]]=latest_data[0][1]\n",
    "\n",
    "    #建立数据\n",
    "    i=0\n",
    "    for value in tem_latest.values():\n",
    "        x[0][i]=value\n",
    "        i+=1\n",
    "    for value in pres_latest.values():\n",
    "        x[0][i]=value\n",
    "        i+=1\n",
    "\n",
    "\n",
    "    # # 开始训练\n",
    "\n",
    "    x_scaled=scaler.transform(x)\n",
    "    x_rec=pca.inverse_transform(pca.transform(x_scaled))\n",
    "    res=x_scaled-x_rec\n",
    "    spe=float(np.diag(np.dot(res,np.transpose(res))))\n",
    "    # #将spe转化成故障率\n",
    "    # if spe <= SPE_limit and spe!=0:\n",
    "    #     spe=spe ** 0.5 *50 / (SPE_limit**0.5)\n",
    "    # elif spe > SPE_limit: \n",
    "    #     spe=(spe-SPE_limit)\n",
    "    # else: \n",
    "    #     spe=99.99\n",
    "    if spe<6:\n",
    "        one_shoot_dataset.append(x)\n",
    "\n",
    "    db = pymysql.connect(\"localhost\",\"root\",\"0502\",\"robot\" )\n",
    "    # 使用 cursor() 方法创建一个游标对象 cursor\n",
    "    cursor = db.cursor()\n",
    "    #查找预测值为空且时间最远的一条数据\n",
    "    sql_diagnosis=\"update fault_detection_value set equipment_fault_prob='\"+str(float(spe))+\"' where d_create_time='\"+str(latest_data[0][0])+\"' and c_equipment_id='\"+equipment+\"' and equipment_fault_prob is null and c_observation_value != 'ON' and c_observation_value != 'OFF' and c_state=1 and c_component_code not like '%REF%'\"\n",
    "\n",
    "    try:\n",
    "        cursor.execute(sql_diagnosis)\n",
    "        db.commit()\n",
    "    except Exception as e:\n",
    "    #错误回滚\n",
    "        db.rollback() \n",
    "    finally:\n",
    "        db.close() "
   ]
  },
  {
   "cell_type": "markdown",
   "metadata": {},
   "source": [
    "# 一共得到了209条正常数据，让我们来可视化它们"
   ]
  },
  {
   "cell_type": "code",
   "execution_count": 75,
   "metadata": {
    "collapsed": false
   },
   "outputs": [
    {
     "name": "stdout",
     "output_type": "stream",
     "text": [
      "(209, 26)\n"
     ]
    }
   ],
   "source": [
    "one_shoot_dataset=np.array(one_shoot_dataset)\n",
    "one_shoot_dataset=np.squeeze(one_shoot_dataset)\n",
    "print(one_shoot_dataset.shape)"
   ]
  },
  {
   "cell_type": "code",
   "execution_count": 76,
   "metadata": {
    "collapsed": true
   },
   "outputs": [],
   "source": [
    "from sklearn.manifold import TSNE\n",
    "one_shoot_dataset_embedded = TSNE(n_components=2).fit_transform(one_shoot_dataset)"
   ]
  },
  {
   "cell_type": "code",
   "execution_count": 77,
   "metadata": {
    "collapsed": false
   },
   "outputs": [
    {
     "data": {
      "text/plain": [
       "<matplotlib.collections.PathCollection at 0x22264967278>"
      ]
     },
     "execution_count": 77,
     "metadata": {},
     "output_type": "execute_result"
    },
    {
     "data": {
      "image/png": "[encoded data removed]",
      "text/plain": [
       "<Figure size 432x288 with 1 Axes>"
      ]
     },
     "metadata": {
      "needs_background": "light"
     },
     "output_type": "display_data"
    }
   ],
   "source": [
    "import matplotlib.pyplot as plt\n",
    "plt.scatter(one_shoot_dataset_embedded[:,0],one_shoot_dataset_embedded[:,1])"
   ]
  },
  {
   "cell_type": "markdown",
   "metadata": {},
   "source": [
    "# 如果采用基于特征池的随机采样方法，同样随机采209个数据"
   ]
  },
  {
   "cell_type": "code",
   "execution_count": 86,
   "metadata": {
    "collapsed": true
   },
   "outputs": [],
   "source": [
    "random_shoot_dataset=np.empty([209,26]) \n",
    "for i in range(random_shoot_dataset.shape[0]):\n",
    "    for j in range(len(tem_component_results)):\n",
    "        random_shoot_dataset[i][j]=tem_component_results[j][np.random.randint(len(tem_component_results[j]))][0]\n",
    "    for k in range(len(pres_component_results)):\n",
    "        random_shoot_dataset[i][k+len(tem_component_results)]=pres_component_results[k][np.random.randint(len(pres_component_results[k]))][0]"
   ]
  },
  {
   "cell_type": "code",
   "execution_count": 87,
   "metadata": {
    "collapsed": false
   },
   "outputs": [
    {
     "name": "stdout",
     "output_type": "stream",
     "text": [
      "(209, 26)\n"
     ]
    }
   ],
   "source": [
    "print(random_shoot_dataset.shape)"
   ]
  },
  {
   "cell_type": "code",
   "execution_count": 88,
   "metadata": {
    "collapsed": true
   },
   "outputs": [],
   "source": [
    "random_shoot_dataset_embedded = TSNE(n_components=2).fit_transform(random_shoot_dataset)"
   ]
  },
  {
   "cell_type": "code",
   "execution_count": 89,
   "metadata": {
    "collapsed": false
   },
   "outputs": [
    {
     "data": {
      "text/plain": [
       "<matplotlib.collections.PathCollection at 0x22264a760f0>"
      ]
     },
     "execution_count": 89,
     "metadata": {},
     "output_type": "execute_result"
    },
    {
     "data": {
      "image/png": "[encoded data removed]",
      "text/plain": [
       "<Figure size 432x288 with 1 Axes>"
      ]
     },
     "metadata": {
      "needs_background": "light"
     },
     "output_type": "display_data"
    }
   ],
   "source": [
    "plt.scatter(random_shoot_dataset_embedded[:,0],random_shoot_dataset_embedded[:,1])"
   ]
  },
  {
   "cell_type": "code",
   "execution_count": null,
   "metadata": {
    "collapsed": true
   },
   "outputs": [],
   "source": []
  }
 ],
 "metadata": {
  "kernelspec": {
   "display_name": "Python webpython",
   "language": "python",
   "name": "webpython"
  },
  "language_info": {
   "codemirror_mode": {
    "name": "ipython",
    "version": 3
   },
   "file_extension": ".py",
   "mimetype": "text/x-python",
   "name": "python",
   "nbconvert_exporter": "python",
   "pygments_lexer": "ipython3",
   "version": "3.6.6"
  }
 },
 "nbformat": 4,
 "nbformat_minor": 2
}
